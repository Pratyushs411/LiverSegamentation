{
 "cells": [
  {
   "cell_type": "code",
   "execution_count": 1,
   "id": "cb05b8a6-c887-4fe4-9f70-950c5667e0ee",
   "metadata": {},
   "outputs": [],
   "source": [
    "in_path = '/Users/pratyush/Downloads/mlproject/dicom_files/labels'\n",
    "out_path = '/Users/pratyush/Downloads/mlproject/output'"
   ]
  },
  {
   "cell_type": "code",
   "execution_count": 5,
   "id": "20e68128-c827-4e77-be75-35e79ec4da5c",
   "metadata": {},
   "outputs": [],
   "source": [
    "from glob import glob\n",
    "import shutil\n",
    "import os"
   ]
  },
  {
   "cell_type": "code",
   "execution_count": null,
   "id": "b8baf101-017e-4a2d-9ed5-65eb60b82c39",
   "metadata": {},
   "outputs": [],
   "source": [
    "for patient glob(in_path + '/*'):"
   ]
  }
 ],
 "metadata": {
  "kernelspec": {
   "display_name": "Python 3 (ipykernel)",
   "language": "python",
   "name": "python3"
  },
  "language_info": {
   "codemirror_mode": {
    "name": "ipython",
    "version": 3
   },
   "file_extension": ".py",
   "mimetype": "text/x-python",
   "name": "python",
   "nbconvert_exporter": "python",
   "pygments_lexer": "ipython3",
   "version": "3.8.20"
  }
 },
 "nbformat": 4,
 "nbformat_minor": 5
}
